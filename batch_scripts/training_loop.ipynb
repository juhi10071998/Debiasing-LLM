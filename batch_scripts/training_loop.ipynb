{
 "cells": [
  {
   "cell_type": "code",
   "execution_count": 2,
   "id": "ec63901f",
   "metadata": {},
   "outputs": [],
   "source": [
    "from transformers import GPT2LMHeadModel, GPT2TokenizerFast\n",
    "import torch\n",
    "import torch.nn as nn\n",
    "import torch\n",
    "torch.device('cuda' if torch.cuda.is_available() else 'cpu')\n",
    "from soft_embedding import SoftEmbedding\n",
    "from dataset import BiasDataset\n",
    "import torchvision\n",
    "from torch.utils.data import Dataset, DataLoader\n",
    "import numpy as np\n",
    "import math\n",
    "import pandas as pd"
   ]
  },
  {
   "cell_type": "code",
   "execution_count": 3,
   "id": "51f128f1",
   "metadata": {},
   "outputs": [
    {
     "data": {
      "text/plain": [
       "device(type='cuda')"
      ]
     },
     "execution_count": 3,
     "metadata": {},
     "output_type": "execute_result"
    }
   ],
   "source": [
    "torch.device('cuda' if torch.cuda.is_available() else 'cpu')\n"
   ]
  },
  {
   "cell_type": "code",
   "execution_count": 4,
   "id": "79efb7af",
   "metadata": {},
   "outputs": [],
   "source": [
    "### TO CHECK WHETHER THE output_1.logits[:, -1, :] returns the next word logits for each sentence in the batch.\n",
    "\n",
    "def get_next_word_log_probabilities(model_input_1, model_input_2, model, logsoftmax):\n",
    "    #import pdb; pdb.set_trace()\n",
    "    output_1 = model(input_ids = model_input_1[0],attention_mask = model_input_1[1])     \n",
    "    #here we get the logits from the output, the logits are obtained from the output.logits, here we first get\n",
    "    #the [batch_size, sequence_len, vocab_size]\n",
    "    #next_word_logits_1 = torch.stack([torch.index_select(seq_logits, 0, torch.tensor([i+1])) for i, seq_logits in enumerate(output_1.logits)])\n",
    "    next_word_logits_1 = output_1.logits[:, -1, :]\n",
    "    next_word_log_probs_1 = logsoftmax(next_word_logits_1)\n",
    "    \n",
    "    output_2 = model(input_ids = model_input_2[0],attention_mask = model_input_2[1] ) \n",
    "    #next_word_logits_2 = torch.stack([torch.index_select(seq_logits, 0, torch.tensor([i+1])) for i, seq_logits in enumerate(output_2.logits)])\n",
    "    next_word_logits_2 = output_2.logits[:, -1, :]\n",
    "    next_word_log_probs_2 = logsoftmax(next_word_logits_2)    \n",
    "\n",
    "    return next_word_log_probs_1, next_word_log_probs_2\n"
   ]
  },
  {
   "cell_type": "code",
   "execution_count": 5,
   "id": "9bc32b7f",
   "metadata": {},
   "outputs": [],
   "source": [
    "n_tokens = 5\n",
    "initialize_from_vocab = True\n",
    "num_epochs = 1"
   ]
  },
  {
   "cell_type": "code",
   "execution_count": 6,
   "id": "2660928d",
   "metadata": {},
   "outputs": [],
   "source": [
    "dataset = BiasDataset(\"../data/occupation.csv\", n_tokens = 5)\n",
    "dataloader = dataset.get_dataloader(batch_size=64)\n",
    "\n",
    "#dataloader = DataLoader(dataset = dataset, batch_size = 4,  shuffle = False, num_workers=1, collate_fn = collate_fn)"
   ]
  },
  {
   "cell_type": "code",
   "execution_count": 7,
   "id": "7c675faa",
   "metadata": {},
   "outputs": [],
   "source": [
    "model = GPT2LMHeadModel.from_pretrained('gpt2')\n",
    "#freezing all the layers, and only keeping the tokens one active\n",
    "\n",
    "for param in model.parameters():\n",
    "    param.requires_grad_(False)\n",
    "    \n",
    "s_wte = SoftEmbedding(model.get_input_embeddings(), \n",
    "                      n_tokens=n_tokens, \n",
    "                      initialize_from_vocab=initialize_from_vocab)\n",
    "model.set_input_embeddings(s_wte)"
   ]
  },
  {
   "cell_type": "code",
   "execution_count": 8,
   "id": "b8a23314",
   "metadata": {},
   "outputs": [],
   "source": [
    "optimizer = torch.optim.Adam(model.parameters(), lr=5e-2)\n",
    "logsoftmax = nn.LogSoftmax(dim = 0)\n",
    "kl_loss = nn.KLDivLoss(reduction=\"batchmean\", log_target=True)"
   ]
  },
  {
   "cell_type": "code",
   "execution_count": 9,
   "id": "5593708f",
   "metadata": {},
   "outputs": [
    {
     "name": "stdout",
     "output_type": "stream",
     "text": [
      "epoch : 0\n",
      "loss at batch : 0 is 9241.669921875\n",
      "loss at batch : 1 is 280.6936340332031\n",
      "loss at batch : 2 is 3.866910934448242\n",
      "loss at batch : 3 is 0.8037680387496948\n",
      "loss at batch : 4 is 2.2142293453216553\n",
      "loss at batch : 5 is 244.95872497558594\n",
      "loss at batch : 6 is 23.449047088623047\n",
      "loss at batch : 7 is 4.415591716766357\n",
      "loss at batch : 8 is 3.141282558441162\n",
      "loss at batch : 9 is 1.986946940422058\n",
      "loss at batch : 10 is 7.846096992492676\n",
      "loss at batch : 11 is 10.516422271728516\n",
      "loss at batch : 12 is 30.058589935302734\n",
      "loss at batch : 13 is 40.47797393798828\n",
      "loss at batch : 14 is 64.55730438232422\n",
      "loss at batch : 15 is 17.30180549621582\n",
      "loss at batch : 16 is 2.0929555892944336\n",
      "loss at batch : 17 is 5.76794958114624\n",
      "loss at batch : 18 is 21.468891143798828\n",
      "loss at batch : 19 is 12.05396842956543\n",
      "loss at batch : 20 is 3.1258740425109863\n",
      "loss at batch : 21 is 3.876750946044922\n",
      "loss at batch : 22 is 1.9230612516403198\n",
      "loss at batch : 23 is 9.9710693359375\n",
      "loss at batch : 24 is 12.19278335571289\n",
      "loss at batch : 25 is 5.018362998962402\n",
      "loss at batch : 26 is 3.514932632446289\n",
      "loss at batch : 27 is 2.554570198059082\n",
      "loss at batch : 28 is 1.7331998348236084\n",
      "loss at batch : 29 is 13.034143447875977\n",
      "loss at batch : 30 is 11.554293632507324\n",
      "loss at batch : 31 is 1.7944222688674927\n",
      "loss at batch : 32 is 0.5783479809761047\n",
      "loss at batch : 33 is 0.8816781640052795\n",
      "loss at batch : 34 is 0.7982385158538818\n",
      "loss at batch : 35 is 2.4241154193878174\n",
      "loss at batch : 36 is 1746.8663330078125\n",
      "loss at batch : 37 is 55.10417175292969\n",
      "loss at batch : 38 is 30.790374755859375\n",
      "loss at batch : 39 is 5.677306652069092\n",
      "loss at batch : 40 is 1.1435524225234985\n",
      "loss at batch : 41 is 17.867887496948242\n",
      "loss at batch : 42 is 11.391908645629883\n",
      "loss at batch : 43 is 2.111597776412964\n",
      "loss at batch : 44 is 3.193329334259033\n",
      "loss at batch : 45 is 1.5949602127075195\n",
      "loss at batch : 46 is 2.828824996948242\n",
      "loss at batch : 47 is 3.9215474128723145\n",
      "loss at batch : 48 is 93.9869384765625\n",
      "loss at batch : 49 is 44.24833297729492\n",
      "loss at batch : 50 is 26.387514114379883\n",
      "loss at batch : 51 is 1.990851640701294\n",
      "loss at batch : 52 is 4.481176376342773\n",
      "loss at batch : 53 is 3.0538341999053955\n",
      "loss at batch : 54 is 42.30622482299805\n",
      "loss at batch : 55 is 101.39900207519531\n",
      "loss at batch : 56 is 51.43733215332031\n",
      "loss at batch : 57 is 10.289390563964844\n",
      "loss at batch : 58 is 5.7312726974487305\n",
      "loss at batch : 59 is 6.582379341125488\n",
      "loss at batch : 60 is 14.200451850891113\n"
     ]
    }
   ],
   "source": [
    "epoch_loss = []\n",
    "for epoch in range(num_epochs):\n",
    "\n",
    "    print(f'epoch : {epoch}')\n",
    "    loss = 0\n",
    "    curr_loss = []\n",
    "    for iter, data in enumerate(dataloader):\n",
    "        group_1, group_2 = data[0], data[1]\n",
    "        \n",
    "        log_probs1, log_probs2 = get_next_word_log_probabilities(data[0], data[1], model, logsoftmax)\n",
    "        loss = kl_loss(log_probs1, log_probs2)\n",
    "        optimizer.zero_grad()\n",
    "        \n",
    "        loss.backward()\n",
    "        optimizer.step()\n",
    "        print(f'loss at batch : {iter} is {loss.item()}')\n",
    "\n",
    "    epoch_loss.append(curr_loss)"
   ]
  },
  {
   "cell_type": "code",
   "execution_count": null,
   "id": "44af37e0",
   "metadata": {},
   "outputs": [],
   "source": [
    "\n"
   ]
  }
 ],
 "metadata": {
  "kernelspec": {
   "display_name": "Python 3 (clean)",
   "language": "python",
   "name": "python3_clean"
  },
  "language_info": {
   "codemirror_mode": {
    "name": "ipython",
    "version": 3
   },
   "file_extension": ".py",
   "mimetype": "text/x-python",
   "name": "python",
   "nbconvert_exporter": "python",
   "pygments_lexer": "ipython3",
   "version": "3.9.5"
  }
 },
 "nbformat": 4,
 "nbformat_minor": 5
}
