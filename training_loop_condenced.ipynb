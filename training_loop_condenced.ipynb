{
 "cells": [
  {
   "cell_type": "code",
   "execution_count": 1,
   "id": "ec63901f",
   "metadata": {},
   "outputs": [],
   "source": [
    "from transformers import GPT2LMHeadModel, GPT2TokenizerFast\n",
    "import torch\n",
    "import torch.nn as nn\n",
    "import torch\n",
    "torch.device('cuda' if torch.cuda.is_available() else 'cpu')\n",
    "from soft_embedding import SoftEmbedding\n",
    "from dataset import BiasDataset\n",
    "import torchvision\n",
    "from torch.utils.data import Dataset, DataLoader\n",
    "import numpy as np\n",
    "import math\n",
    "import pandas as pd"
   ]
  },
  {
   "cell_type": "code",
   "execution_count": 2,
   "id": "51f128f1",
   "metadata": {},
   "outputs": [
    {
     "data": {
      "text/plain": [
       "device(type='cuda')"
      ]
     },
     "execution_count": 2,
     "metadata": {},
     "output_type": "execute_result"
    }
   ],
   "source": [
    "torch.device('cuda' if torch.cuda.is_available() else 'cpu')"
   ]
  },
  {
   "cell_type": "code",
   "execution_count": 3,
   "id": "79efb7af",
   "metadata": {},
   "outputs": [],
   "source": [
    "### TO CHECK WHETHER THE output_1.logits[:, -1, :] returns the next word logits for each sentence in the batch.\n",
    "\n",
    "def get_next_word_log_probabilities(model_input_1, model_input_2, model, logsoftmax):\n",
    "    #import pdb; pdb.set_trace()\n",
    "    output_1 = model(input_ids = model_input_1[0],attention_mask = model_input_1[1])     \n",
    "    #here we get the logits from the output, the logits are obtained from the output.logits, here we first get\n",
    "    #the [batch_size, sequence_len, vocab_size]\n",
    "    #next_word_logits_1 = torch.stack([torch.index_select(seq_logits, 0, torch.tensor([i+1])) for i, seq_logits in enumerate(output_1.logits)])\n",
    "    next_word_logits_1 = output_1.logits[:, -1, :]\n",
    "    next_word_log_probs_1 = logsoftmax(next_word_logits_1)\n",
    "    \n",
    "    output_2 = model(input_ids = model_input_2[0],attention_mask = model_input_2[1] ) \n",
    "    #next_word_logits_2 = torch.stack([torch.index_select(seq_logits, 0, torch.tensor([i+1])) for i, seq_logits in enumerate(output_2.logits)])\n",
    "    next_word_logits_2 = output_2.logits[:, -1, :]\n",
    "    next_word_log_probs_2 = logsoftmax(next_word_logits_2)    \n",
    "\n",
    "    return next_word_log_probs_1, next_word_log_probs_2\n"
   ]
  },
  {
   "cell_type": "code",
   "execution_count": 4,
   "id": "7c675faa",
   "metadata": {},
   "outputs": [],
   "source": [
    "def get_model(n_tokens = 5 , initialize_from_vocab = True):\n",
    "    model = GPT2LMHeadModel.from_pretrained('gpt2')\n",
    "    #freezing all the layers, and only keeping the tokens one active\n",
    "\n",
    "    for param in model.parameters():\n",
    "        param.requires_grad_(False)\n",
    "\n",
    "    s_wte = SoftEmbedding(model.get_input_embeddings(), \n",
    "                          n_tokens=n_tokens, \n",
    "                          initialize_from_vocab=initialize_from_vocab)\n",
    "    model.set_input_embeddings(s_wte)\n",
    "    return model"
   ]
  },
  {
   "cell_type": "code",
   "execution_count": 7,
   "id": "dfadf208",
   "metadata": {},
   "outputs": [],
   "source": [
    "def run(model, dataloader, num_epochs = 5, train = True):\n",
    "    ''' \n",
    "    if train is false, we are only testing the model, there will be only one loss value\n",
    "    if train true:\n",
    "            in this case, we update the soft embedding tokens and run for the desired number of epochs.\n",
    "    '''\n",
    "    logsoftmax = nn.LogSoftmax(dim = 0)\n",
    "    kl_loss = nn.KLDivLoss(reduction=\"batchmean\", log_target=True) #can try mean reduction\n",
    "    if not train:\n",
    "        loss = 0\n",
    "        curr_loss = []\n",
    "        for iter, data in enumerate(dataloader):\n",
    "            group_1, group_2 = data[0], data[1]\n",
    "            with torch.no_grad():\n",
    "                log_probs1, log_probs2 = get_next_word_log_probabilities(data[0], data[1], model, logsoftmax)\n",
    "                loss = torch.mean(torch.stack([kl_loss(log_probs1[i], log_probs2[i]) for i in range(len(log_probs1))]))\n",
    "                curr_loss.append(loss)\n",
    "            #print(f'loss at batch : {iter} is {loss.item()}')\n",
    "\n",
    "        return torch.mean(torch.stack(curr_loss))\n",
    "    \n",
    "    else:\n",
    "        optimizer = torch.optim.Adam(model.parameters(), lr=5e-2)\n",
    "\n",
    "        epoch_loss = []\n",
    "        \n",
    "        for epoch in range(num_epochs):\n",
    "\n",
    "            print(f'epoch : {epoch}')\n",
    "            loss = 0\n",
    "            curr_loss = []\n",
    "            for iter, data in enumerate(dataloader):\n",
    "                group_1, group_2 = data[0], data[1]\n",
    "\n",
    "                log_probs1, log_probs2 = get_next_word_log_probabilities(data[0], data[1], model, logsoftmax)\n",
    "                #import pdb; pdb.set_trace()\n",
    "                #loss = kl_loss(log_probs1, log_probs2)\n",
    "                loss = torch.mean(torch.stack([kl_loss(log_probs1[i], log_probs2[i]) for i in range(len(log_probs1))]))\n",
    "                optimizer.zero_grad()\n",
    "\n",
    "                loss.backward()\n",
    "                optimizer.step()\n",
    "                curr_loss.append(loss)\n",
    "                if iter%5==0:\n",
    "                    print(f'loss at batch : {iter} is {loss.item()}')\n",
    "\n",
    "            epoch_loss.append(torch.mean(torch.stack(curr_loss)))\n",
    "        return epoch_loss\n",
    "        \n",
    "        "
   ]
  },
  {
   "cell_type": "markdown",
   "id": "0a98f657",
   "metadata": {},
   "source": [
    "# train on gender and test the performance on race"
   ]
  },
  {
   "cell_type": "code",
   "execution_count": 6,
   "id": "fc6dbbec",
   "metadata": {},
   "outputs": [
    {
     "data": {
      "text/plain": [
       "(5432, 1358, 2716)"
      ]
     },
     "execution_count": 6,
     "metadata": {},
     "output_type": "execute_result"
    }
   ],
   "source": [
    "train_dataset = BiasDataset(\"../data/train_gender.csv\", n_tokens = 5)\n",
    "train_dataloader = train_dataset.get_dataloader(batch_size=64)\n",
    "\n",
    "gender_dataset = BiasDataset(\"../data/test_gender.csv\", n_tokens = 5)\n",
    "gender_dataloader = gender_dataset.get_dataloader(batch_size=64)\n",
    "\n",
    "race_dataset = BiasDataset(\"../data/test_race.csv\", n_tokens = 5)\n",
    "race_dataloader = race_dataset.get_dataloader(batch_size=64)\n",
    "\n",
    "len(train_dataset), len(gender_dataset), len(race_dataset)"
   ]
  },
  {
   "cell_type": "code",
   "execution_count": null,
   "id": "6e62644a",
   "metadata": {},
   "outputs": [
    {
     "name": "stdout",
     "output_type": "stream",
     "text": [
      "gender_loss_before_training is 0.011328664608299732\n",
      "race_loss_before_training is 0.002282505389302969\n",
      "epoch : 0\n",
      "loss at batch : 0 is 0.0021197027526795864\n",
      "loss at batch : 5 is 0.004379349760711193\n",
      "loss at batch : 10 is 0.008802814409136772\n",
      "loss at batch : 15 is 0.003076541004702449\n"
     ]
    }
   ],
   "source": [
    "model = get_model(n_tokens = 5 , initialize_from_vocab = True)\n",
    "\n",
    "'''first we are training the model, each case pass a different dataloader corresponding to a different dataset'''\n",
    "\n",
    "gender_loss_before_training = run(model, gender_dataloader, 2, False)\n",
    "\n",
    "print(f'gender_loss_before_training is {gender_loss_before_training}')\n",
    "race_loss_before_training = run(model, race_dataloader, 2, False)\n",
    "print(f'race_loss_before_training is {race_loss_before_training}')\n",
    "\n",
    "\n",
    "epoch_loss_training = run(model, train_dataloader, 5, True)\n",
    "print(f'epoch loss is {epoch_loss_training}')\n",
    "\n",
    "gender_loss_after_training = run(model, gender_dataloader, 2, False)\n",
    "\n",
    "race_loss_after_training = run(model, race_dataloader, 2, False)"
   ]
  },
  {
   "cell_type": "code",
   "execution_count": null,
   "id": "645f3fae",
   "metadata": {},
   "outputs": [],
   "source": [
    "gender_loss_before_training, race_loss_before_training, epoch_loss_training, gender_loss_after_training, race_loss_after_training\n"
   ]
  },
  {
   "cell_type": "markdown",
   "id": "22419573",
   "metadata": {},
   "source": [
    "# train on race and test the performance on gender"
   ]
  },
  {
   "cell_type": "code",
   "execution_count": null,
   "id": "a0ede957",
   "metadata": {},
   "outputs": [],
   "source": [
    "train_dataset = BiasDataset(\"../data/train_race.csv\", n_tokens = 5)\n",
    "train_dataloader = train_dataset.get_dataloader(batch_size=64)\n",
    "\n",
    "gender_dataset = BiasDataset(\"../data/test_gender.csv\", n_tokens = 5)\n",
    "gender_dataloader = gender_dataset.get_dataloader(batch_size=64)\n",
    "\n",
    "race_dataset = BiasDataset(\"../data/test_race.csv\", n_tokens = 5)\n",
    "race_dataloader = race_dataset.get_dataloader(batch_size=64)\n",
    "\n",
    "\n",
    "model = get_model(n_tokens = 5 , initialize_from_vocab = True)\n",
    "\n",
    "'''\n",
    "first we are training the model, each case pass a different dataloader corresponding to a different dataset,\n",
    "\n",
    "'''\n",
    "\n",
    "gender_loss_before_training = run(model, gender_dataloader, 2, False)\n",
    "race_loss_before_training = run(model, race_dataloader, 2, False)\n",
    "\n",
    "\n",
    "epoch_loss_training = run(model, train_dataloader, 5, True)\n",
    "\n",
    "\n",
    "gender_loss_after_training = run(model, gender_dataloader, 2, False)\n",
    "race_loss_after_training = run(model, race_dataloader, 2, False)"
   ]
  },
  {
   "cell_type": "code",
   "execution_count": null,
   "id": "6c301810",
   "metadata": {},
   "outputs": [],
   "source": []
  },
  {
   "cell_type": "code",
   "execution_count": null,
   "id": "b63ca115",
   "metadata": {},
   "outputs": [],
   "source": [
    "## initial loss - \n"
   ]
  },
  {
   "cell_type": "code",
   "execution_count": null,
   "id": "e151c2ab",
   "metadata": {},
   "outputs": [],
   "source": [
    "\n"
   ]
  },
  {
   "cell_type": "code",
   "execution_count": null,
   "id": "dd4fc22f",
   "metadata": {},
   "outputs": [],
   "source": [
    "loss_before_training"
   ]
  },
  {
   "cell_type": "code",
   "execution_count": null,
   "id": "d8781450",
   "metadata": {},
   "outputs": [],
   "source": [
    "epoch_loss_training"
   ]
  },
  {
   "cell_type": "code",
   "execution_count": null,
   "id": "56fc40f9",
   "metadata": {},
   "outputs": [],
   "source": [
    "loss_after_training"
   ]
  },
  {
   "cell_type": "code",
   "execution_count": null,
   "id": "09ec8f54",
   "metadata": {},
   "outputs": [],
   "source": []
  }
 ],
 "metadata": {
  "kernelspec": {
   "display_name": "Python 3 (clean)",
   "language": "python",
   "name": "python3_clean"
  },
  "language_info": {
   "codemirror_mode": {
    "name": "ipython",
    "version": 3
   },
   "file_extension": ".py",
   "mimetype": "text/x-python",
   "name": "python",
   "nbconvert_exporter": "python",
   "pygments_lexer": "ipython3",
   "version": "3.9.5"
  }
 },
 "nbformat": 4,
 "nbformat_minor": 5
}
